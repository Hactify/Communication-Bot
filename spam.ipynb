{
 "cells": [
  {
   "cell_type": "code",
   "execution_count": 92,
   "id": "252c3147",
   "metadata": {},
   "outputs": [],
   "source": [
    "import pandas as pd\n",
    "from sklearn.model_selection import train_test_split\n",
    "from sklearn.feature_extraction.text import TfidfVectorizer\n",
    "from sklearn.linear_model import LogisticRegression\n",
    "from sklearn.metrics import accuracy_score, classification_report\n",
    "import joblib\n",
    "from sklearn.metrics import classification_report\n",
    "from sklearn.ensemble import RandomForestClassifier"
   ]
  },
  {
   "cell_type": "code",
   "execution_count": 93,
   "id": "0b5b73ca",
   "metadata": {},
   "outputs": [],
   "source": [
    "# Step 1: Load your CSV data into a pandas DataFrame\n",
    "df = pd.read_csv('For_email_reading.csv')"
   ]
  },
  {
   "cell_type": "code",
   "execution_count": 94,
   "id": "302b499d",
   "metadata": {},
   "outputs": [],
   "source": [
    "# phishing_rows=df[df['Email Type']==\"Phishing Email\"]\n",
    "# safe_rows=df[df['Email Type']==\"Safe Email\"]"
   ]
  },
  {
   "cell_type": "code",
   "execution_count": 95,
   "id": "bb82f103",
   "metadata": {},
   "outputs": [],
   "source": [
    "# print(df[df['Email Type']=='Phishing Email'].shape[0])"
   ]
  },
  {
   "cell_type": "code",
   "execution_count": 96,
   "id": "ef81c77e",
   "metadata": {},
   "outputs": [],
   "source": [
    "# print(df[df['Email Type']=='Safe Email'].shape[0])"
   ]
  },
  {
   "cell_type": "code",
   "execution_count": 97,
   "id": "0e607015",
   "metadata": {},
   "outputs": [],
   "source": [
    "# # Ensure all indices in rows_to_delete exist in df\n",
    "# rows_to_delete = phishing_rows.sample(frac=0.3)\n",
    "# rows_to_delete = rows_to_delete[rows_to_delete.index.isin(df.index)]\n",
    "\n",
    "# # Drop rows from df\n",
    "# df = df.drop(rows_to_delete.index)"
   ]
  },
  {
   "cell_type": "code",
   "execution_count": 98,
   "id": "68434382",
   "metadata": {},
   "outputs": [],
   "source": [
    "# rows_to_delete = safe_rows.sample(frac=0.4)\n",
    "# rows_to_delete = rows_to_delete[rows_to_delete.index.isin(df.index)]\n",
    "\n",
    "# # Drop rows from df\n",
    "# df = df.drop(rows_to_delete.index)"
   ]
  },
  {
   "cell_type": "code",
   "execution_count": 99,
   "id": "2ec9953b",
   "metadata": {},
   "outputs": [],
   "source": [
    "X = df['Email Text'].astype(str)  # Convert to string in case some values are not strings\n",
    "y = df['Email Type']"
   ]
  },
  {
   "cell_type": "code",
   "execution_count": 100,
   "id": "95e767b3",
   "metadata": {},
   "outputs": [],
   "source": [
    "# Step 2: Vectorize text data\n",
    "vectorizer = TfidfVectorizer(max_features=1000)  # Adjust max_features as needed\n",
    "X_vectorized = vectorizer.fit_transform(X)"
   ]
  },
  {
   "cell_type": "code",
   "execution_count": 101,
   "id": "49e66e66",
   "metadata": {},
   "outputs": [],
   "source": [
    "# Step 3: Split data into training and testing sets\n",
    "X_train, X_test, y_train, y_test = train_test_split(X_vectorized, y, test_size=0.2, random_state=42)"
   ]
  },
  {
   "cell_type": "code",
   "execution_count": 102,
   "id": "5eda26bb",
   "metadata": {},
   "outputs": [],
   "source": [
    "# Initialize Logistic Regression model\n",
    "spam_model = LogisticRegression(max_iter=1000)"
   ]
  },
  {
   "cell_type": "code",
   "execution_count": 103,
   "id": "8fde7bde",
   "metadata": {},
   "outputs": [
    {
     "data": {
      "text/plain": [
       "LogisticRegression(max_iter=1000)"
      ]
     },
     "execution_count": 103,
     "metadata": {},
     "output_type": "execute_result"
    }
   ],
   "source": [
    "# Step 4: Initialize and train the logistic regression model\n",
    "model = LogisticRegression(max_iter=1000)\n",
    "model.fit(X_train, y_train)"
   ]
  },
  {
   "cell_type": "code",
   "execution_count": 104,
   "id": "61d715f4",
   "metadata": {},
   "outputs": [
    {
     "data": {
      "text/plain": [
       "LogisticRegression(max_iter=1000)"
      ]
     },
     "execution_count": 104,
     "metadata": {},
     "output_type": "execute_result"
    }
   ],
   "source": [
    "# Train the model\n",
    "spam_model.fit(X_train, y_train)"
   ]
  },
  {
   "cell_type": "code",
   "execution_count": 105,
   "id": "595008ae",
   "metadata": {},
   "outputs": [
    {
     "name": "stdout",
     "output_type": "stream",
     "text": [
      "Model accuracy: 0.97\n"
     ]
    }
   ],
   "source": [
    "# Evaluate the model\n",
    "accuracy = spam_model.score(X_test, y_test)\n",
    "print(f\"Model accuracy: {accuracy:.2f}\")"
   ]
  },
  {
   "cell_type": "code",
   "execution_count": 106,
   "id": "c1e9b3f3",
   "metadata": {},
   "outputs": [
    {
     "name": "stdout",
     "output_type": "stream",
     "text": [
      "                precision    recall  f1-score   support\n",
      "\n",
      "Phishing Email       0.93      0.82      0.87       174\n",
      "    Safe Email       0.97      0.99      0.98      1221\n",
      "\n",
      "      accuracy                           0.97      1395\n",
      "     macro avg       0.95      0.90      0.93      1395\n",
      "  weighted avg       0.97      0.97      0.97      1395\n",
      "\n"
     ]
    }
   ],
   "source": [
    "# Instantiate the classifier\n",
    "classifier = RandomForestClassifier()\n",
    "\n",
    "# Train the classifier\n",
    "classifier.fit(X_train, y_train)\n",
    "\n",
    "# Make predictions on test data\n",
    "y_pred = classifier.predict(X_test)\n",
    "\n",
    "# Ensure y_test and y_pred have the same number of samples\n",
    "y_test = y_test[:len(y_pred)]\n",
    "\n",
    "# Generate classification report\n",
    "print(classification_report(y_test, y_pred))"
   ]
  },
  {
   "cell_type": "code",
   "execution_count": 107,
   "id": "eeeef178",
   "metadata": {},
   "outputs": [
    {
     "name": "stdout",
     "output_type": "stream",
     "text": [
      "Model and vectorizer saved successfully.\n"
     ]
    }
   ],
   "source": [
    "# Save the model and vectorizer for later use in the email bot\n",
    "joblib.dump(spam_model, 'spam_detection_model.pkl')\n",
    "joblib.dump(vectorizer, 'tfidf_vectorizer.pkl')\n",
    "\n",
    "print(\"Model and vectorizer saved successfully.\")"
   ]
  },
  {
   "cell_type": "code",
   "execution_count": null,
   "id": "b111e87b",
   "metadata": {},
   "outputs": [],
   "source": [
    "# data=pd.read_csv(\"Phishing_Email.csv\")"
   ]
  },
  {
   "cell_type": "code",
   "execution_count": null,
   "id": "d6ec5f8b",
   "metadata": {},
   "outputs": [],
   "source": [
    "# data['Email Text'] = data['Email Text'].astype(str).fillna('')"
   ]
  },
  {
   "cell_type": "code",
   "execution_count": null,
   "id": "7c09717e",
   "metadata": {},
   "outputs": [],
   "source": [
    "# # Initialize and train the model\n",
    "# model = LogisticRegression(max_iter=1000)\n",
    "# model.fit(X_train_tfidf, y_train)"
   ]
  },
  {
   "cell_type": "code",
   "execution_count": null,
   "id": "e170fbc9",
   "metadata": {},
   "outputs": [],
   "source": [
    "# X = data['Email Text']\n",
    "# y = data['Email Type']  # Assuming 'Email Type' column contains 1 for phishing, 0 for safe"
   ]
  },
  {
   "cell_type": "code",
   "execution_count": null,
   "id": "fcfc5852",
   "metadata": {},
   "outputs": [],
   "source": [
    "# X.fillna('', inplace=True)\n",
    "\n",
    "# vectorizer = TfidfVectorizer(max_features=5000, stop_words='english', min_df=5)\n",
    "# X_tfidf = vectorizer.fit_transform(X)"
   ]
  },
  {
   "cell_type": "code",
   "execution_count": null,
   "id": "ca0ce9fa",
   "metadata": {},
   "outputs": [],
   "source": [
    "# model = MultinomialNB()\n",
    "# model.fit(X_tfidf, y)"
   ]
  },
  {
   "cell_type": "code",
   "execution_count": null,
   "id": "1c2774b5",
   "metadata": {},
   "outputs": [],
   "source": [
    "# # Train Naive Bayes model\n",
    "# model = MultinomialNB()\n",
    "# model.fit(X_train_tfidf, y_train)"
   ]
  },
  {
   "cell_type": "code",
   "execution_count": null,
   "id": "e06ff248",
   "metadata": {},
   "outputs": [],
   "source": [
    "# X_train, X_test, y_train, y_test = train_test_split(X_tfidf, y, test_size=0.2, random_state=42)\n",
    "# model.fit(X_train, y_train)\n",
    "# y_pred = model.predict(X_test)\n",
    "# print(classification_report(y_test, y_pred))\n",
    "# print('Accuracy:', accuracy_score(y_test, y_pred))"
   ]
  },
  {
   "cell_type": "code",
   "execution_count": null,
   "id": "a876fc49",
   "metadata": {},
   "outputs": [],
   "source": [
    "\n",
    "# joblib.dump(model, 'spam_detection_model.pkl')\n",
    "# joblib.dump(vectorizer, 'tfidf_vectorizer.pkl')"
   ]
  },
  {
   "cell_type": "code",
   "execution_count": null,
   "id": "0908cecd",
   "metadata": {},
   "outputs": [],
   "source": [
    "# print(data['Email Type'].value_counts())"
   ]
  }
 ],
 "metadata": {
  "kernelspec": {
   "display_name": "Python 3 (ipykernel)",
   "language": "python",
   "name": "python3"
  },
  "language_info": {
   "codemirror_mode": {
    "name": "ipython",
    "version": 3
   },
   "file_extension": ".py",
   "mimetype": "text/x-python",
   "name": "python",
   "nbconvert_exporter": "python",
   "pygments_lexer": "ipython3",
   "version": "3.9.13"
  }
 },
 "nbformat": 4,
 "nbformat_minor": 5
}
